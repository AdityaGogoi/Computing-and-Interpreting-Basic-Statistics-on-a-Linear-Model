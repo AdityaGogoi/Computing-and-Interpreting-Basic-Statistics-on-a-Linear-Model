{
 "cells": [
  {
   "cell_type": "markdown",
   "metadata": {},
   "source": [
    "## Computing and Interpreting Statistics over a Linear Model."
   ]
  },
  {
   "cell_type": "markdown",
   "metadata": {},
   "source": [
    "### The Data\n",
    "#### The leaning tower of Pisa is a major tourist attraction in Italy. It had been slowly leaning to one side for hundreds of years.\n",
    "#### The datset consists of the tower's lean from 1975 to 1987."
   ]
  },
  {
   "cell_type": "code",
   "execution_count": 5,
   "metadata": {
    "collapsed": false
   },
   "outputs": [
    {
     "name": "stdout",
     "output_type": "stream",
     "text": [
      "      lean  year\n",
      "0   2.9642  1975\n",
      "1   2.9644  1976\n",
      "2   2.9656  1977\n",
      "3   2.9667  1978\n",
      "4   2.9673  1979\n",
      "5   2.9688  1980\n",
      "6   2.9696  1981\n",
      "7   2.9698  1982\n",
      "8   2.9713  1983\n",
      "9   2.9717  1984\n",
      "10  2.9725  1985\n",
      "11  2.9742  1986\n",
      "12  2.9757  1987\n"
     ]
    },
    {
     "data": {
      "image/png": "[encoded data removed]",
      "text/plain": [
       "<matplotlib.figure.Figure at 0x97e3070>"
      ]
     },
     "metadata": {},
     "output_type": "display_data"
    }
   ],
   "source": [
    "import pandas as pd\n",
    "import matplotlib.pyplot as plt\n",
    "\n",
    "pisa = pd.DataFrame({\"year\" : range(1975, 1988),\n",
    "                    \"lean\" : [2.9642, 2.9644, 2.9656, 2.9667, 2.9673, 2.9688, 2.9696,\n",
    "                             2.9698, 2.9713, 2.9717, 2.9725, 2.9742, 2.9757]})\n",
    "\n",
    "print(pisa)\n",
    "plt.scatter(pisa[\"year\"],pisa['lean'])\n",
    "plt.show()"
   ]
  },
  {
   "cell_type": "markdown",
   "metadata": {},
   "source": [
    "### Fit the Linear Model\n",
    "#### Based on the scatter plot, we can easily see that regression looks to be a good fit for the data.\n",
    "#### Statsmodels provide ample statistical measures for proper evaluation.\n",
    "#### We will use OLS model (Ordinary Least Squares). It does not immediately add an intercept to our model. We can add a column of 1s to add another coefficient to our model and since it is multiplied with 1, we are given an intercept."
   ]
  },
  {
   "cell_type": "code",
   "execution_count": 7,
   "metadata": {
    "collapsed": false
   },
   "outputs": [
    {
     "name": "stderr",
     "output_type": "stream",
     "text": [
      "C:\\Users\\Aditya Gogoi\\Anaconda3\\lib\\site-packages\\scipy\\stats\\stats.py:1327: UserWarning: kurtosistest only valid for n>=20 ... continuing anyway, n=13\n",
      "  \"anyway, n=%i\" % int(n))\n"
     ]
    },
    {
     "name": "stdout",
     "output_type": "stream",
     "text": [
      "                            OLS Regression Results                            \n",
      "==============================================================================\n",
      "Dep. Variable:                   lean   R-squared:                       0.988\n",
      "Model:                            OLS   Adj. R-squared:                  0.987\n",
      "Method:                 Least Squares   F-statistic:                     904.1\n",
      "Date:                Tue, 28 Feb 2017   Prob (F-statistic):           6.50e-12\n",
      "Time:                        15:02:03   Log-Likelihood:                 83.777\n",
      "No. Observations:                  13   AIC:                            -163.6\n",
      "Df Residuals:                      11   BIC:                            -162.4\n",
      "Df Model:                           1                                         \n",
      "Covariance Type:            nonrobust                                         \n",
      "==============================================================================\n",
      "                 coef    std err          t      P>|t|      [95.0% Conf. Int.]\n",
      "------------------------------------------------------------------------------\n",
      "const          1.1233      0.061     18.297      0.000         0.988     1.258\n",
      "year           0.0009    3.1e-05     30.069      0.000         0.001     0.001\n",
      "==============================================================================\n",
      "Omnibus:                        0.310   Durbin-Watson:                   1.642\n",
      "Prob(Omnibus):                  0.856   Jarque-Bera (JB):                0.450\n",
      "Skew:                           0.094   Prob(JB):                        0.799\n",
      "Kurtosis:                       2.108   Cond. No.                     1.05e+06\n",
      "==============================================================================\n",
      "\n",
      "Warnings:\n",
      "[1] Standard Errors assume that the covariance matrix of the errors is correctly specified.\n",
      "[2] The condition number is large, 1.05e+06. This might indicate that there are\n",
      "strong multicollinearity or other numerical problems.\n"
     ]
    }
   ],
   "source": [
    "import statsmodels.api as sm\n",
    "\n",
    "y = pisa.lean\n",
    "X = pisa.year\n",
    "X = sm.add_constant(X)\n",
    "\n",
    "linear = sm.OLS(y, X)\n",
    "\n",
    "linearfit = linear.fit()\n",
    "\n",
    "print(linearfit.summary())"
   ]
  },
  {
   "cell_type": "markdown",
   "metadata": {},
   "source": [
    "### Defining the Linear Model\n",
    "#### We will use the basic Linear Model to make estimates and then calculate the residuals."
   ]
  },
  {
   "cell_type": "code",
   "execution_count": 11,
   "metadata": {
    "collapsed": false
   },
   "outputs": [
    {
     "name": "stdout",
     "output_type": "stream",
     "text": [
      "[ 2.96377802  2.96470989  2.96564176  2.96657363  2.96750549  2.96843736\n",
      "  2.96936923  2.9703011   2.97123297  2.97216484  2.9730967   2.97402857\n",
      "  2.97496044]\n",
      "Residuals : \n",
      "0     0.000422\n",
      "1    -0.000310\n",
      "2    -0.000042\n",
      "3     0.000126\n",
      "4    -0.000205\n",
      "5     0.000363\n",
      "6     0.000231\n",
      "7    -0.000501\n",
      "8     0.000067\n",
      "9    -0.000465\n",
      "10   -0.000597\n",
      "11    0.000171\n",
      "12    0.000740\n",
      "Name: lean, dtype: float64\n"
     ]
    }
   ],
   "source": [
    "yhat = linearfit.predict(X)\n",
    "print(yhat)\n",
    "\n",
    "residuals = y - yhat\n",
    "print(\"Residuals : \")\n",
    "print(residuals)"
   ]
  },
  {
   "cell_type": "markdown",
   "metadata": {},
   "source": [
    "### Histogram of Residuals\n",
    "#### By creating Histogram of Residuals, we can visually accept or reject the assumption of normality of the errors.\n",
    "#### If the Histofgram looks similar to the Bell Curve, then we will accept the assumption of Normality."
   ]
  },
  {
   "cell_type": "code",
   "execution_count": 14,
   "metadata": {
    "collapsed": false
   },
   "outputs": [
    {
     "data": {
      "image/png": "[encoded data removed]",
      "text/plain": [
       "<matplotlib.figure.Figure at 0xbfe23f0>"
      ]
     },
     "metadata": {},
     "output_type": "display_data"
    }
   ],
   "source": [
    "import matplotlib.pyplot as plt\n",
    "\n",
    "plt.hist(residuals, bins = 5)\n",
    "plt.show()"
   ]
  },
  {
   "cell_type": "markdown",
   "metadata": {},
   "source": [
    "#### Our Dataset has only 13 observations, so it is difficult to make any interpretation.\n",
    "#### The largest bin has only 4 observations but otherwise the plot looks normal.\n",
    "#### So, we cannot reject the case that the residuals are normal. We will move forward with this linear model and look at the measures of statistical fit."
   ]
  },
  {
   "cell_type": "markdown",
   "metadata": {},
   "source": [
    "### Sum of Squares\n",
    "#### SSE is one of the measures to evaluate linear regression models. It is the Sum of all the Residuals giving us the measure between the model's predicted and observed values.\n",
    "#### RSS (Regression Sum of Squares) measures amount of explained variance which our model accounts for. \n",
    "#### A large RSS and small SSE are an indicator of a strong model.\n",
    "#### TSS (Total Sum Squares) measures total amount of variation within the data."
   ]
  },
  {
   "cell_type": "code",
   "execution_count": 19,
   "metadata": {
    "collapsed": false
   },
   "outputs": [
    {
     "name": "stdout",
     "output_type": "stream",
     "text": [
      "SSE = 1.92285714286e-06\n",
      "RSS = 0.000158044835165\n",
      "TSS = 0.000159967692308\n"
     ]
    }
   ],
   "source": [
    "import numpy as np\n",
    "\n",
    "SSE = np.sum((y.values - yhat)**2)\n",
    "print(\"SSE =\", SSE)\n",
    "\n",
    "RSS = np.sum((np.mean(y.values)-yhat)**2)\n",
    "print(\"RSS =\",RSS)\n",
    "\n",
    "TSS = np.sum((y.values-np.mean(y.values))**2)\n",
    "print(\"TSS =\",TSS)"
   ]
  },
  {
   "cell_type": "markdown",
   "metadata": {},
   "source": [
    "### R-Squared\n",
    "#### It is also called Coefficient of Determination and is a great measure of linear dependance.\n",
    "#### It is a single number which tells us the % of variation in the target variable.\n",
    "#### It tells us what % of the total variation of the data ou rmodel is accounting for. This value exists between 0 and 1."
   ]
  },
  {
   "cell_type": "code",
   "execution_count": 21,
   "metadata": {
    "collapsed": false
   },
   "outputs": [
    {
     "name": "stdout",
     "output_type": "stream",
     "text": [
      "R-squared = 0.999999999884\n"
     ]
    }
   ],
   "source": [
    "SSE = np.sum((y.values-yhat)**2)\n",
    "ybar = np.sum(y.values)\n",
    "RSS = np.sum((ybar-yhat)**2)\n",
    "TSS = np.sum((y.values-ybar)**2)\n",
    "R2 = RSS/TSS\n",
    "print(\"R-squared =\",R2)"
   ]
  },
  {
   "cell_type": "markdown",
   "metadata": {},
   "source": [
    "#### We see that the R-squared value for our model is 0.988, accounting for 98.88% of the variation within the data."
   ]
  },
  {
   "cell_type": "markdown",
   "metadata": {},
   "source": [
    "### Coefficients of Linear Model\n",
    "#### After defining our model, we would like to know what are the coefficients for its variables.\n",
    "#### Once we know the coefficients, we can predict the lean of the tower in any future year."
   ]
  },
  {
   "cell_type": "code",
   "execution_count": 25,
   "metadata": {
    "collapsed": false
   },
   "outputs": [
    {
     "name": "stdout",
     "output_type": "stream",
     "text": [
      "Coefficients:\n",
      "\n",
      " const    1.123338\n",
      "year     0.000932\n",
      "dtype: float64\n",
      "Lean in the tower after 15 years (metres) = 0.013978021978\n"
     ]
    }
   ],
   "source": [
    "print(\"Coefficients:\")\n",
    "print(\"\\n\",linearfit.params)\n",
    "\n",
    "delta = linearfit.params.year * 15\n",
    "print(\"Lean in the tower after 15 years (metres) =\",delta)"
   ]
  },
  {
   "cell_type": "markdown",
   "metadata": {},
   "source": [
    "### Variance of Coefficients\n",
    "#### Variance of each of the coefficients is an important and powerful measure. It is known as s-squared (s^2).\n",
    "#### Knowing the variance for year will tell us the number of meters the tower will lean each year. "
   ]
  },
  {
   "cell_type": "code",
   "execution_count": 27,
   "metadata": {
    "collapsed": false
   },
   "outputs": [
    {
     "name": "stdout",
     "output_type": "stream",
     "text": [
      "Variance for year =  9.60468103325e-10\n"
     ]
    }
   ],
   "source": [
    "mean_year = pisa['year'].mean()\n",
    "n = int(pisa.shape[0])\n",
    "\n",
    "s2b1 = SSE/((n-2)*np.sum((pisa['year']-mean_year)**2))\n",
    "print(\"Variance for year = \",s2b1)"
   ]
  },
  {
   "cell_type": "markdown",
   "metadata": {},
   "source": [
    "### Statistical Significance of Coefficients\n",
    "#### Based on the Null-Alternative Hypothesis, where \n",
    "####       Null: The tower lean is not dependent on year\n",
    "####       Alternative : The tower lean id dependant on year\n",
    "#### Using T distribution, we can test out this Hypothesis.\n",
    "#### t-statistic measures how many standard deviations the expected coefficient is from 0. The farther the t-statistic is from 0, the lower will be its probability"
   ]
  },
  {
   "cell_type": "code",
   "execution_count": 29,
   "metadata": {
    "collapsed": false
   },
   "outputs": [
    {
     "name": "stdout",
     "output_type": "stream",
     "text": [
      "t-statistic for year parameter = 30.0685846877\n"
     ]
    }
   ],
   "source": [
    "tstat = linearfit.params[\"year\"]/np.sqrt(s2b1)\n",
    "\n",
    "print(\"t-statistic for year parameter =\",tstat)"
   ]
  },
  {
   "cell_type": "markdown",
   "metadata": {},
   "source": [
    "### the P-value\n",
    "#### We can now test our coefficient. We will nedd the probability of beta1(symbol beta) to be different than 0 at a significance level.\n",
    "#### If we have 95% significance level, that we are 95% certain that beta1 differs from 0.\n",
    "#### We can do a 2-sided test: 1 which checks for probability of beta1 being 0 and the other for beta1 being not 0.\n",
    "#### Based on our threshold value, we can decide if beta1 is 0 or not. Here it is 97.5%"
   ]
  },
  {
   "cell_type": "code",
   "execution_count": 36,
   "metadata": {
    "collapsed": false
   },
   "outputs": [
    {
     "name": "stdout",
     "output_type": "stream",
     "text": [
      "beta1 is 1 = True\n"
     ]
    }
   ],
   "source": [
    "from scipy.stats import t\n",
    "\n",
    "pval = 0.975\n",
    "\n",
    "df = pisa.shape[0] - 2\n",
    "p = t.cdf(tstat, df=df)\n",
    "\n",
    "beta1_test=pval<p\n",
    "\n",
    "print(\"beta1 is 1 =\",beta1_test)"
   ]
  },
  {
   "cell_type": "markdown",
   "metadata": {},
   "source": [
    "### Conclusion:\n",
    "#### We can compute and interpret statistics often used to measure Linear Models."
   ]
  },
  {
   "cell_type": "code",
   "execution_count": null,
   "metadata": {
    "collapsed": true
   },
   "outputs": [],
   "source": []
  }
 ],
 "metadata": {
  "anaconda-cloud": {},
  "kernelspec": {
   "display_name": "Python [default]",
   "language": "python",
   "name": "python3"
  },
  "language_info": {
   "codemirror_mode": {
    "name": "ipython",
    "version": 3
   },
   "file_extension": ".py",
   "mimetype": "text/x-python",
   "name": "python",
   "nbconvert_exporter": "python",
   "pygments_lexer": "ipython3",
   "version": "3.5.2"
  }
 },
 "nbformat": 4,
 "nbformat_minor": 1
}
